{
 "cells": [
  {
   "cell_type": "code",
   "execution_count": 36,
   "id": "3d79759a",
   "metadata": {},
   "outputs": [],
   "source": [
    "import pandas as pd\n",
    "import numpy as np\n",
    "from tabulate import tabulate"
   ]
  },
  {
   "cell_type": "markdown",
   "id": "3e4a5b26",
   "metadata": {},
   "source": [
    "## Création des bases de données utiles et des paramètres de calculs"
   ]
  },
  {
   "cell_type": "code",
   "execution_count": 37,
   "id": "2d0cc033",
   "metadata": {},
   "outputs": [],
   "source": [
    "# base de données des ratings avec leurs probas de défaut\n",
    "rating_df = pd.DataFrame({\n",
    "    \"Rating\": [\"AAA\", \"AA\", \"A\", \"BBB\", \"BB\", \"B\", \"CCC\", \"CC\", \"C\"],\n",
    "    \"1Y\": [0.03/100, 0.1/100, 0.5/100, 1.24/100, 3.76/100, 7.05/100, 15/100, 25/100, 50/100],\n",
    "    \"2Y\": [0.03/100, 0.1/100, 0.5/100, 1.24/100, 3.76/100, 7.05/100, 15/100, 25/100, 50/100],\n",
    "    \"3Y\": [0.03/100, 0.1/100, 0.5/100, 1.24/100, 3.76/100, 7.05/100, 15/100, 25/100, 50/100],\n",
    "    \"4Y\": [0.03/100, 0.1/100, 0.5/100, 1.24/100, 3.76/100, 7.05/100, 15/100, 25/100, 50/100],\n",
    "    \"5Y\": [0.03/100, 0.1/100, 0.5/100, 1.24/100, 3.76/100, 7.05/100, 15/100, 25/100, 50/100],\n",
    "})\n",
    "\n",
    "# base de données des pays avec rating, LGD et Taux de transfert\n",
    "country_df = pd.DataFrame({\n",
    "    \"Pays\": [\"Argentine\", \"France\", \"USA\", \"UK\"],\n",
    "    \"Rating\": [\"CCC\", \"AA\", \"A\", \"BBB\"],\n",
    "    \"LGD\": [0.6, 0.6, 0.4, 0.5],\n",
    "    \"Taux_transfert\": [0.6, 0.2, 0.2, 0.2]\n",
    "})\n",
    "\n",
    "# base de données des LGD suivant les types\n",
    "type_df = pd.DataFrame({\n",
    "    \"Type\": [\"Autre\", \"Fond de commerce\", \"Immobilier\"],\n",
    "    \"LGD\": [0.5, 0.7, 0.2]\n",
    "})\n",
    "\n",
    "# base de données des garanties\n",
    "garanties_df = pd.DataFrame({\n",
    "    \"Garanties\": [\"Autres\", \"Titres côtés\", \"Immobilier\"],\n",
    "    \"Haircut\": [0.5, 0.3, 0.2]\n",
    "})\n",
    "\n"
   ]
  },
  {
   "cell_type": "markdown",
   "id": "c7d44bd9",
   "metadata": {},
   "source": [
    "## Nos données"
   ]
  },
  {
   "cell_type": "code",
   "execution_count": 74,
   "id": "0782142a",
   "metadata": {},
   "outputs": [
    {
     "name": "stdout",
     "output_type": "stream",
     "text": [
      "╒════════════════════════════════╤═══════════╕\n",
      "│ Table des paramètres           │   Valeurs │\n",
      "╞════════════════════════════════╪═══════════╡\n",
      "│ Corrélation                    │       0.1 │\n",
      "├────────────────────────────────┼───────────┤\n",
      "│ Diversification                │       0.5 │\n",
      "├────────────────────────────────┼───────────┤\n",
      "│ Facteur de correction gaussien │      14   │\n",
      "╘════════════════════════════════╧═══════════╛\n",
      "\n",
      "╒═══════════╤══════════════╕\n",
      "│ Données   │ Valeurs      │\n",
      "╞═══════════╪══════════════╡\n",
      "│ Montant   │ 1000000      │\n",
      "├───────────┼──────────────┤\n",
      "│ Durée     │ 3Y           │\n",
      "├───────────┼──────────────┤\n",
      "│ Note      │ A            │\n",
      "├───────────┼──────────────┤\n",
      "│ Type      │ Autre        │\n",
      "├───────────┼──────────────┤\n",
      "│ Garantie  │ Titres côtés │\n",
      "├───────────┼──────────────┤\n",
      "│ Décôte    │ 30.0%        │\n",
      "├───────────┼──────────────┤\n",
      "│ Nominal   │ 300000       │\n",
      "├───────────┼──────────────┤\n",
      "│ Pays      │ Argentine    │\n",
      "├───────────┼──────────────┤\n",
      "│ Prix      │ 5.86%        │\n",
      "╘═══════════╧══════════════╛\n"
     ]
    }
   ],
   "source": [
    "######### paramètres de calculs #########\n",
    "\n",
    "corr = 0.1\n",
    "fi = 0.5\n",
    "beta = 14\n",
    "TSR = 0.02 # taux sans risque\n",
    "\n",
    "params = pd.DataFrame({\n",
    "    \"Table des paramètres\": [\"Corrélation\", \"Diversification\", \"Facteur de correction gaussien\"],\n",
    "    \"Valeurs\": [corr, diversification, beta]\n",
    "})\n",
    "\n",
    "######### nos données ############\n",
    "\n",
    "montant = 1000000\n",
    "duree = \"3Y\"\n",
    "note = \"A\"\n",
    "Type = \"Autre\"\n",
    "\n",
    "type_garantie = \"Titres côtés\"\n",
    "decote = 0.3\n",
    "nominal = 300000\n",
    "\n",
    "pays = \"Argentine\"\n",
    "\n",
    "prix = 0.0586 # à définir !\n",
    "\n",
    "data = pd.DataFrame({\n",
    "    \"Données\": [\"Montant\", \"Durée\", \"Note\", \"Type\", \"Garantie\", \"Décôte\", \"Nominal\", \"Pays\", \"Prix\"],\n",
    "    \"Valeurs\": [montant, duree, note, Type, type_garantie, f\"{decote*100}%\", nominal, pays, f\"{prix*100}%\"]\n",
    "})\n",
    "\n",
    "print(tabulate(params, headers=\"keys\", tablefmt=\"fancy_grid\", showindex= False))\n",
    "print(\"\")\n",
    "print(tabulate(data, headers=\"keys\", tablefmt=\"fancy_grid\", showindex= False))"
   ]
  },
  {
   "cell_type": "markdown",
   "id": "d9098e92",
   "metadata": {},
   "source": [
    "## Risk Management"
   ]
  },
  {
   "cell_type": "code",
   "execution_count": 75,
   "id": "0ca38742",
   "metadata": {},
   "outputs": [
    {
     "name": "stdout",
     "output_type": "stream",
     "text": [
      "╒═══════════════════╤═══════════╕\n",
      "│ Risk Management   │ Valeurs   │\n",
      "╞═══════════════════╪═══════════╡\n",
      "│ EAD               │ 790000.0  │\n",
      "├───────────────────┼───────────┤\n",
      "│ PD (A)            │ 0.5%      │\n",
      "├───────────────────┼───────────┤\n",
      "│ LGD               │ 50.0%     │\n",
      "├───────────────────┼───────────┤\n",
      "│ EAD Transfert     │ 474000.0  │\n",
      "├───────────────────┼───────────┤\n",
      "│ PD Pays (CCC)     │ 15.0%     │\n",
      "├───────────────────┼───────────┤\n",
      "│ LGD Pays          │ 60.0%     │\n",
      "├───────────────────┼───────────┤\n",
      "│ EL                │ 43450.0   │\n",
      "├───────────────────┼───────────┤\n",
      "│ UL                │ 249461.98 │\n",
      "├───────────────────┼───────────┤\n",
      "│ ---               │ -         │\n",
      "├───────────────────┼───────────┤\n",
      "│ RAROC             │ 1.03%     │\n",
      "╘═══════════════════╧═══════════╛\n"
     ]
    }
   ],
   "source": [
    "# contrôle de gestion\n",
    "PNB = montant * prix\n",
    "couts = 0.3 * PNB\n",
    "GDR = nominal*(1-decote) # global depository receipt\n",
    "\n",
    "# risk management\n",
    "EAD = montant - GDR\n",
    "PD = float(rating_df[rating_df.Rating == note][duree])\n",
    "LGD = float(type_df[type_df.Type == Type][\"LGD\"])\n",
    "\n",
    "rating_pays = str(country_df[country_df.Pays == pays][\"Rating\"][0])\n",
    "PD_pays = float(rating_df[rating_df.Rating == rating_pays][duree])\n",
    "LGD_pays = float(country_df[country_df.Pays == pays][\"LGD\"])\n",
    "\n",
    "if PD < PD_pays:\n",
    "    EAD_transfert = float(country_df[country_df.Pays == pays][\"Taux_transfert\"]) * EAD\n",
    "else:\n",
    "    EAD_transfert = 0\n",
    "    \n",
    "EL = (EAD - EAD_transfert)*PD*LGD + EAD_transfert*PD_pays*LGD_pays\n",
    "UL = (EAD - EAD_transfert)*LGD*fi*beta*np.sqrt(corr*PD*(1-PD))+EAD_transfert*LGD_pays*fi*beta*np.sqrt(corr*PD_pays*(1-PD_pays))\n",
    "\n",
    "RAROC = (PNB - couts - EL) / UL + TSR\n",
    "\n",
    "risk_df = pd.DataFrame({\n",
    "    \"Risk Management\": [\"EAD\", f\"PD ({note})\", \"LGD\", \"EAD Transfert\", f\"PD Pays ({rating_pays})\", \"LGD Pays\", \"EL\", \"UL\", \"---\", \"RAROC\"],\n",
    "    \"Valeurs\": [EAD, f\"{PD*100}%\", f\"{LGD*100}%\", EAD_transfert, f\"{PD_pays*100}%\", f\"{LGD_pays*100}%\", EL, f\"{UL:.2f}\", \"-\", f\"{RAROC*100:.2f}%\"]\n",
    "})\n",
    "print(tabulate(risk_df, headers=\"keys\", tablefmt=\"fancy_grid\", showindex= False))"
   ]
  },
  {
   "cell_type": "markdown",
   "id": "7cf37c8b",
   "metadata": {},
   "source": [
    "## Side Business"
   ]
  },
  {
   "cell_type": "code",
   "execution_count": 81,
   "id": "cac421f8",
   "metadata": {},
   "outputs": [
    {
     "name": "stdout",
     "output_type": "stream",
     "text": [
      "Side Business: RAROC => 11.99%\n"
     ]
    }
   ],
   "source": [
    "part_SB = 0.4\n",
    "PNB_SB = part_SB/(1-part_SB)*PNB\n",
    "couts_SB = 0.3 * PNB_SB\n",
    "\n",
    "RAROC_SB = (PNB_SB - couts_SB + PNB - couts - EL) / UL + TSR \n",
    "\n",
    "print(f\"Side Business: RAROC => {RAROC_SB*100:.2f}%\")"
   ]
  },
  {
   "cell_type": "code",
   "execution_count": null,
   "id": "2c2898d9",
   "metadata": {},
   "outputs": [],
   "source": []
  }
 ],
 "metadata": {
  "kernelspec": {
   "display_name": "Python 3 (ipykernel)",
   "language": "python",
   "name": "python3"
  },
  "language_info": {
   "codemirror_mode": {
    "name": "ipython",
    "version": 3
   },
   "file_extension": ".py",
   "mimetype": "text/x-python",
   "name": "python",
   "nbconvert_exporter": "python",
   "pygments_lexer": "ipython3",
   "version": "3.9.1"
  }
 },
 "nbformat": 4,
 "nbformat_minor": 5
}
