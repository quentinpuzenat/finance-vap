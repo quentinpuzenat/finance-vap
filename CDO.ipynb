{
 "cells": [
  {
   "cell_type": "code",
   "execution_count": 260,
   "id": "d5796298",
   "metadata": {},
   "outputs": [],
   "source": [
    "import pandas as pd\n",
    "import matplotlib.pyplot as plt\n",
    "import numpy as np\n",
    "from scipy.stats import norm, beta\n",
    "from tabulate import tabulate\n",
    "\n",
    "seed = np.random.seed(11) # seed pour avoir les mêmes résultats"
   ]
  },
  {
   "cell_type": "markdown",
   "id": "e9eb72d5",
   "metadata": {},
   "source": [
    "### Création des tables utiles de rating et de secteur"
   ]
  },
  {
   "cell_type": "code",
   "execution_count": 404,
   "id": "895056a4",
   "metadata": {},
   "outputs": [],
   "source": [
    "# paramètres \n",
    "\n",
    "corr = 0.1 # corrélation\n",
    "number_of_simulations = 100000 # nombre de simulations monte-carlo\n",
    "\n",
    "# table de rating\n",
    "rating_df = pd.DataFrame({\n",
    "    \"Rating\": [\"AAA\", \"AA\", \"A\", \"BBB\", \"BB\", \"B\", \"CCC\", \"CC\", \"C\"],\n",
    "    \"1Y\": [0.0003, 0.0010, 0.005, 0.0124, 0.0376, 0.0705, 0.15, 0.25, 0.5]\n",
    "})\n",
    "\n",
    "# table des corrélations des différents secteurs\n",
    "secteur_df = pd.DataFrame({\n",
    "    \"Secteur\": [\"techno\", \"utilities\", \"consumer\"],\n",
    "    \"Corr_Sectorielle\": [0.17, 0.12, 0.15],\n",
    "    \"Num_Secteur\": [i for i in range(len(secteur_df.Secteur))]\n",
    "})\n",
    "\n",
    "# table regroupant tous nos CDS\n",
    "CDS_df = pd.read_excel(\"csv_test.xlsx\")"
   ]
  },
  {
   "cell_type": "markdown",
   "id": "3bc9734c",
   "metadata": {},
   "source": [
    "### Calcul de PD, Barrier, Expected Loss et Correlation Sectorielle"
   ]
  },
  {
   "cell_type": "code",
   "execution_count": 405,
   "id": "98a2ee91",
   "metadata": {},
   "outputs": [],
   "source": [
    "# calcul des probabilités de défault\n",
    "PD_list = []\n",
    "for rating in CDS_df.Rating:\n",
    "    for i in range(len(rating_df)):\n",
    "        if rating_df.Rating[i] == rating:\n",
    "            PD_list.append(rating_df[\"1Y\"][i])\n",
    "            \n",
    "CDS_df[\"PD\"] = PD_list\n",
    "\n",
    "# calcul des barrières avec l'inverse de la CDF de la loi normale et une loi exponentielle\n",
    "lambda_barrier = 0.5\n",
    "CDS_df[\"Barrier\"] = norm.ppf(CDS_df[\"PD\"]) - lambda_barrier * np.log(np.random.uniform(0, 1, size=(1, len(CDS_df.index)))[0])\n",
    "\n",
    "# calcul des expected loss\n",
    "CDS_df[\"Expected_Loss\"] = CDS_df.Nominal*CDS_df.LGD*CDS_df.PD\n",
    "\n",
    "#calcul des coorélations sectorielles\n",
    "corr_list = []\n",
    "num_secteur_array = np.zeros((len(CDS_df.index), len(secteur_df.index))) # tableau pour les poids des échantillons sectorielles\n",
    "\n",
    "for index, secteur in enumerate(CDS_df.Secteur):\n",
    "    for j in range(np.shape(num_secteur_array)[1]):\n",
    "        if secteur_df.Secteur[j] == secteur:\n",
    "            corr_list.append(secteur_df[\"Corr_Sectorielle\"][j])\n",
    "            num_secteur_array[index, j] = 1 # on renseigne 1 dans les poids pour le X correspondant au secteur\n",
    "\n",
    "CDS_df[\"Corr_Sectorielle\"] = corr_list"
   ]
  },
  {
   "cell_type": "markdown",
   "id": "955ee6b4",
   "metadata": {},
   "source": [
    "### Monte Carlo"
   ]
  },
  {
   "cell_type": "code",
   "execution_count": 406,
   "id": "e6174d55",
   "metadata": {},
   "outputs": [],
   "source": [
    "N_CDS = len(CDS_df.index) #nombre de CDS\n",
    "\n",
    "MC_X_samples = np.random.normal(0, 1, size=(number_of_simulations, 1)) # échantillons gaussiens X \n",
    "MC_Xsecteurs_samples = np.random.normal(0, 1, size=(number_of_simulations, len(secteur_df.index))) # échantillons gaussiens X des secteurs\n",
    "MC_error_samples = np.random.normal(0, 1, size=(number_of_simulations, N_CDS)) # termes d'erreurs gaussiens\n",
    "\n",
    "# produit matriciel pour ne garder que les bons X par secteurs\n",
    "X_secteurs = np.dot(MC_Xsecteurs_samples, num_secteur_array.T) # on crée une matrice (nombre de simulations * nombre de CDS) pour les différents secteurs\n",
    "\n",
    "Z_matrix = np.sqrt(corr)*MC_X_samples + np.sqrt(list(CDS_df[\"Corr_Sectorielle\"] - corr))* X_secteurs + np.sqrt(1 - corr)* MC_error_samples # matrice des Zi\n",
    "\n",
    "Default_matrix = Z_matrix < ([list(CDS_df.Barrier)] * number_of_simulations) # matrice des défaults\n",
    "\n",
    "# calcul des LGD suivant une loi beta\n",
    "LGD_beta_matrix = beta.ppf(np.random.uniform(0, 1, size=(number_of_simulations, N_CDS)), 0.45, 0.45)\n",
    "\n",
    "Loss_matrix = Default_matrix * LGD_beta_matrix * ([list(CDS_df.Nominal)]* number_of_simulations) # matrice des pertes"
   ]
  },
  {
   "cell_type": "code",
   "execution_count": 407,
   "id": "20799874",
   "metadata": {},
   "outputs": [],
   "source": [
    "# calcul des pertes du protefeuille pour chaque simulation\n",
    "Loss_Portfolio = []\n",
    "for i in range(np.shape(Default_matrix)[0]):\n",
    "    Loss_Portfolio.append(Loss_matrix[i,:].sum()) # on ajoute la perte totale du portfolio sur la simulation i"
   ]
  },
  {
   "cell_type": "markdown",
   "id": "62c104e0",
   "metadata": {},
   "source": [
    "## Portfolio Management"
   ]
  },
  {
   "cell_type": "code",
   "execution_count": 408,
   "id": "a02017c9",
   "metadata": {},
   "outputs": [],
   "source": [
    "var_precision = 99 # précision de la var en pourcentages\n",
    "\n",
    "perte_moyenne = pd.Series(Loss_Portfolio).mean() # perte moyenne du portfolio\n",
    "var = pd.Series(Loss_Portfolio).quantile(var_precision/100) # var (souvent à 99%)\n",
    "\n",
    "sum_loss_sup_var = 0 # somme des pertes supérieures à la var\n",
    "counter = 0\n",
    "for loss in Loss_Portfolio:\n",
    "    if loss > var:\n",
    "        sum_loss_sup_var += loss\n",
    "        counter += 1\n",
    "        \n",
    "esf = sum_loss_sup_var / counter # expected shortfall\n",
    "\n",
    "portfolio_mgt = pd.DataFrame({\n",
    "    \"Portfolio Management\": [\"Perte Moyenne\", f\"VaR ({var_precision}%)\", \"ESF\"],\n",
    "    \"Value\": [perte_moyenne, var, esf]\n",
    "        })"
   ]
  },
  {
   "cell_type": "code",
   "execution_count": 409,
   "id": "02d605ca",
   "metadata": {
    "scrolled": true
   },
   "outputs": [
    {
     "name": "stdout",
     "output_type": "stream",
     "text": [
      "╒════════════════════════╤══════════╕\n",
      "│ Portfolio Management   │    Value │\n",
      "╞════════════════════════╪══════════╡\n",
      "│ Perte Moyenne          │  8255.18 │\n",
      "├────────────────────────┼──────────┤\n",
      "│ VaR (99%)              │ 29445.4  │\n",
      "├────────────────────────┼──────────┤\n",
      "│ ESF                    │ 33655.7  │\n",
      "╘════════════════════════╧══════════╛\n"
     ]
    }
   ],
   "source": [
    "print(tabulate(portfolio_mgt, headers='keys', tablefmt='fancy_grid', showindex=False))"
   ]
  },
  {
   "cell_type": "markdown",
   "id": "aaa85cdb",
   "metadata": {},
   "source": [
    "## CDO"
   ]
  },
  {
   "cell_type": "code",
   "execution_count": 410,
   "id": "ca6218fa",
   "metadata": {},
   "outputs": [],
   "source": [
    "strike = 0.05\n",
    "size = 0.02\n",
    "\n",
    "Loss_CDO = Loss_Portfolio / CDS_df.Nominal.sum() # liste des pertes pour chaque simulation de notre CDO\n",
    "\n",
    "Loss_tranche = [] # perte de notre tranche en pourcentage (de 0 à 1)\n",
    "for loss in Loss_CDO:\n",
    "    Loss_tranche.append(min(max(loss - strike, 0), size) / size)\n",
    "    \n",
    "price = pd.Series(Loss_tranche).mean()\n",
    "\n",
    "cdo_mgt = pd.DataFrame({\n",
    "    \"CDO Management\": [\"Strike\", \"Size\", \"Price\"],\n",
    "    \"Value\": [f\"{strike*100}%\", f\"{size*100}%\", f\"{price*100}%\"]\n",
    "        })"
   ]
  },
  {
   "cell_type": "code",
   "execution_count": 411,
   "id": "6239214c",
   "metadata": {},
   "outputs": [
    {
     "name": "stdout",
     "output_type": "stream",
     "text": [
      "╒══════════════════╤═══════════════════╕\n",
      "│ CDO Management   │ Value             │\n",
      "╞══════════════════╪═══════════════════╡\n",
      "│ Strike           │ 5.0%              │\n",
      "├──────────────────┼───────────────────┤\n",
      "│ Size             │ 2.0%              │\n",
      "├──────────────────┼───────────────────┤\n",
      "│ Price            │ 58.1836003627578% │\n",
      "╘══════════════════╧═══════════════════╛\n"
     ]
    }
   ],
   "source": [
    "print(tabulate(cdo_mgt, headers='keys', tablefmt='fancy_grid', showindex=False))"
   ]
  },
  {
   "cell_type": "markdown",
   "id": "b16b4fa2",
   "metadata": {},
   "source": [
    "## Convergence"
   ]
  },
  {
   "cell_type": "code",
   "execution_count": 412,
   "id": "32e8744b",
   "metadata": {},
   "outputs": [],
   "source": [
    "moyenne_glissante = pd.Series(Loss_Portfolio).expanding().mean()\n",
    "#error = moyenne_glissante + (1/number_of_simulations)*(perte_moyenne - moyenne_glissante)**2\n",
    "#error2 = moyenne_glissante - (1/number_of_simulations)*(perte_moyenne - moyenne_glissante)**2\n"
   ]
  },
  {
   "cell_type": "code",
   "execution_count": null,
   "id": "c7675f54",
   "metadata": {},
   "outputs": [],
   "source": []
  },
  {
   "cell_type": "code",
   "execution_count": 413,
   "id": "cd7d662c",
   "metadata": {},
   "outputs": [
    {
     "data": {
      "image/png": "[encoded data removed]",
      "text/plain": [
       "<Figure size 432x288 with 1 Axes>"
      ]
     },
     "metadata": {
      "needs_background": "light"
     },
     "output_type": "display_data"
    }
   ],
   "source": [
    "plt.plot(moyenne_glissante.index, moyenne_glissante)\n",
    "#plt.plot(error.index, error)\n",
    "#plt.plot(error2.index, error2)\n",
    "\n",
    "plt.show()"
   ]
  },
  {
   "cell_type": "code",
   "execution_count": null,
   "id": "00c80427",
   "metadata": {},
   "outputs": [],
   "source": []
  }
 ],
 "metadata": {
  "kernelspec": {
   "display_name": "Python 3 (ipykernel)",
   "language": "python",
   "name": "python3"
  },
  "language_info": {
   "codemirror_mode": {
    "name": "ipython",
    "version": 3
   },
   "file_extension": ".py",
   "mimetype": "text/x-python",
   "name": "python",
   "nbconvert_exporter": "python",
   "pygments_lexer": "ipython3",
   "version": "3.9.1"
  }
 },
 "nbformat": 4,
 "nbformat_minor": 5
}
