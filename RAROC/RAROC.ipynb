{
 "cells": [
  {
   "cell_type": "markdown",
   "metadata": {},
   "source": [
    "### Imports"
   ]
  },
  {
   "cell_type": "code",
   "execution_count": 1,
   "id": "3d79759a",
   "metadata": {},
   "outputs": [],
   "source": [
    "import pandas as pd\n",
    "import numpy as np\n",
    "from tabulate import tabulate"
   ]
  },
  {
   "cell_type": "markdown",
   "id": "3e4a5b26",
   "metadata": {},
   "source": [
    "## Création des bases de données utiles et des paramètres de calculs"
   ]
  },
  {
   "cell_type": "code",
   "execution_count": 2,
   "id": "1957218b",
   "metadata": {},
   "outputs": [],
   "source": [
    "filename = \"Credit_Portfolio_withSectors.xls\"\n",
    "\n",
    "df_params = pd.read_excel(filename, sheet_name=\"Params\") # bdd des paramètres\n",
    "rating_df = pd.read_excel(filename, sheet_name=\"Params2\") # bdd des ratings\n",
    "rating_df[\"PD\"] = rating_df[\"PD\"].str.upper()\n",
    "df_portfolio = pd.read_excel(filename, sheet_name=\"Portfolio\") # portfolio\n",
    "\n",
    "# base de données des pays avec rating, LGD et Taux de transfert\n",
    "country_df = pd.DataFrame({\n",
    "    \"Pays\": [\"Argentine\", \"France\", \"USA\", \"UK\"],\n",
    "    \"Rating\": [\"CAA1\", \"AA2\", \"A1\", \"BAA2\"],\n",
    "    \"LGD\": [0.6, 0.6, 0.4, 0.5],\n",
    "    \"Taux_transfert\": [0.6, 0.2, 0.2, 0.2]\n",
    "})\n",
    "\n",
    "# base de données des garanties\n",
    "garanties_df = pd.DataFrame({\n",
    "    \"Garanties\": [\"Autres\", \"Titres côtés\", \"Immobilier\"],\n",
    "    \"Haircut\": [0.5, 0.3, 0.2]\n",
    "})\n",
    "\n",
    "# # base de données des LGD suivant les types\n",
    "type_df = pd.DataFrame({\n",
    "    \"Type\": [\"Autre\", \"Fond de commerce\", \"Immobilier\"],\n",
    "    \"LGD\": [0.5, 0.7, 0.2]\n",
    "})\n",
    "\n",
    "######### paramètres de calculs #########\n",
    "\n",
    "corr = 0.1\n",
    "fi = 0.5\n",
    "beta = 14\n",
    "tsr = 0.02 # taux sans risque\n",
    "\n",
    "params = pd.DataFrame({\n",
    "    \"Table des paramètres\": [\"Corrélation\", \"Diversification\", \"Facteur de correction gaussien\"],\n",
    "    \"Valeurs\": [corr, fi, beta]\n",
    "})"
   ]
  },
  {
   "cell_type": "markdown",
   "id": "c7d44bd9",
   "metadata": {},
   "source": [
    "## Nos données"
   ]
  },
  {
   "cell_type": "code",
   "execution_count": 18,
   "id": "0782142a",
   "metadata": {},
   "outputs": [],
   "source": [
    "######### nos données ############\n",
    "\n",
    "montant = 1000000\n",
    "duree = \"3Y\"\n",
    "note = \"A1\"\n",
    "Type = \"Autre\"\n",
    "\n",
    "type_garantie = \"Immobilier\"\n",
    "decote = 0.3\n",
    "nominal = 300000\n",
    "\n",
    "pays = \"Argentine\"\n",
    "\n",
    "prix = 0.119 # à définir !\n",
    "\n",
    "part_SB = 0.4 # par side business\n",
    "\n",
    "#################################"
   ]
  },
  {
   "cell_type": "markdown",
   "id": "d9098e92",
   "metadata": {},
   "source": [
    "## Risk Management"
   ]
  },
  {
   "cell_type": "code",
   "execution_count": 19,
   "id": "0ca38742",
   "metadata": {},
   "outputs": [
    {
     "data": {
      "text/html": [
       "<div>\n",
       "<style scoped>\n",
       "    .dataframe tbody tr th:only-of-type {\n",
       "        vertical-align: middle;\n",
       "    }\n",
       "\n",
       "    .dataframe tbody tr th {\n",
       "        vertical-align: top;\n",
       "    }\n",
       "\n",
       "    .dataframe thead th {\n",
       "        text-align: right;\n",
       "    }\n",
       "</style>\n",
       "<table border=\"1\" class=\"dataframe\">\n",
       "  <thead>\n",
       "    <tr style=\"text-align: right;\">\n",
       "      <th></th>\n",
       "      <th>Variables</th>\n",
       "      <th>Valeurs</th>\n",
       "    </tr>\n",
       "  </thead>\n",
       "  <tbody>\n",
       "    <tr>\n",
       "      <th>0</th>\n",
       "      <td>Analysis Horizon</td>\n",
       "      <td>3Y</td>\n",
       "    </tr>\n",
       "    <tr>\n",
       "      <th>1</th>\n",
       "      <td>PNB</td>\n",
       "      <td>119000.0</td>\n",
       "    </tr>\n",
       "    <tr>\n",
       "      <th>2</th>\n",
       "      <td>Costs</td>\n",
       "      <td>35700.0</td>\n",
       "    </tr>\n",
       "    <tr>\n",
       "      <th>3</th>\n",
       "      <td>Credit EBIT</td>\n",
       "      <td>83300.0</td>\n",
       "    </tr>\n",
       "    <tr>\n",
       "      <th>4</th>\n",
       "      <td>Expected Loss</td>\n",
       "      <td>62213.132</td>\n",
       "    </tr>\n",
       "    <tr>\n",
       "      <th>5</th>\n",
       "      <td>Risk-Adjusted Credit EBIT</td>\n",
       "      <td>21086.868</td>\n",
       "    </tr>\n",
       "    <tr>\n",
       "      <th>6</th>\n",
       "      <td></td>\n",
       "      <td></td>\n",
       "    </tr>\n",
       "    <tr>\n",
       "      <th>7</th>\n",
       "      <td>Economic Capital (UL)</td>\n",
       "      <td>273727.348968</td>\n",
       "    </tr>\n",
       "    <tr>\n",
       "      <th>8</th>\n",
       "      <td></td>\n",
       "      <td></td>\n",
       "    </tr>\n",
       "    <tr>\n",
       "      <th>9</th>\n",
       "      <td>Taxes</td>\n",
       "      <td>0.02</td>\n",
       "    </tr>\n",
       "    <tr>\n",
       "      <th>10</th>\n",
       "      <td>RAROC</td>\n",
       "      <td>9.70%</td>\n",
       "    </tr>\n",
       "    <tr>\n",
       "      <th>11</th>\n",
       "      <td></td>\n",
       "      <td></td>\n",
       "    </tr>\n",
       "    <tr>\n",
       "      <th>12</th>\n",
       "      <td>PNB Side Business</td>\n",
       "      <td>79333.333333</td>\n",
       "    </tr>\n",
       "    <tr>\n",
       "      <th>13</th>\n",
       "      <td>Costs Side Business</td>\n",
       "      <td>23800.0</td>\n",
       "    </tr>\n",
       "    <tr>\n",
       "      <th>14</th>\n",
       "      <td>RAROC Side Business</td>\n",
       "      <td>29.99%</td>\n",
       "    </tr>\n",
       "  </tbody>\n",
       "</table>\n",
       "</div>"
      ],
      "text/plain": [
       "                    Variables        Valeurs\n",
       "0            Analysis Horizon             3Y\n",
       "1                         PNB       119000.0\n",
       "2                       Costs        35700.0\n",
       "3                 Credit EBIT        83300.0\n",
       "4               Expected Loss      62213.132\n",
       "5   Risk-Adjusted Credit EBIT      21086.868\n",
       "6                                           \n",
       "7       Economic Capital (UL)  273727.348968\n",
       "8                                           \n",
       "9                       Taxes           0.02\n",
       "10                      RAROC          9.70%\n",
       "11                                          \n",
       "12          PNB Side Business   79333.333333\n",
       "13        Costs Side Business        23800.0\n",
       "14        RAROC Side Business         29.99%"
      ]
     },
     "execution_count": 19,
     "metadata": {},
     "output_type": "execute_result"
    }
   ],
   "source": [
    "from compute_data import Data\n",
    "\n",
    "mydata = Data(montant, duree, note, Type, type_garantie, decote, nominal, pays, prix, corr, fi, beta, tsr)\n",
    "raroc, pnb = mydata.compute_raroc(rating_df, type_df, country_df)\n",
    "raroc_SB = mydata.compute_SB(part_SB)\n",
    "mydata.summary()"
   ]
  },
  {
   "cell_type": "code",
   "execution_count": 21,
   "metadata": {},
   "outputs": [
    {
     "name": "stdout",
     "output_type": "stream",
     "text": [
      "Le prix est de 11.9020% pour un RAROC Side Business de 30.0% \n"
     ]
    }
   ],
   "source": [
    "mydata.compute_price(0.3) # trouver le prix pour un certain RAROC"
   ]
  },
  {
   "cell_type": "code",
   "execution_count": null,
   "metadata": {},
   "outputs": [],
   "source": []
  },
  {
   "cell_type": "code",
   "execution_count": null,
   "metadata": {},
   "outputs": [],
   "source": []
  }
 ],
 "metadata": {
  "interpreter": {
   "hash": "a5d52a0c0a0539d5ecbb1485cefeb08c8102bcb54d5cfb820daaee63b163f6fe"
  },
  "kernelspec": {
   "display_name": "Python 3.9.1 64-bit ('financepython': venv)",
   "name": "python3"
  },
  "language_info": {
   "codemirror_mode": {
    "name": "ipython",
    "version": 3
   },
   "file_extension": ".py",
   "mimetype": "text/x-python",
   "name": "python",
   "nbconvert_exporter": "python",
   "pygments_lexer": "ipython3",
   "version": "3.9.1"
  }
 },
 "nbformat": 4,
 "nbformat_minor": 5
}
