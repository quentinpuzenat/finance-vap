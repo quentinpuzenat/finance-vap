{
 "cells": [
  {
   "cell_type": "code",
   "execution_count": 121,
   "id": "e0108a2c",
   "metadata": {},
   "outputs": [],
   "source": [
    "import pandas as pd\n",
    "import numpy as np\n",
    "import matplotlib.pyplot as plt"
   ]
  },
  {
   "cell_type": "code",
   "execution_count": 140,
   "id": "5d11577b",
   "metadata": {},
   "outputs": [],
   "source": [
    "# paramètres\n",
    "\n",
    "K = 1.20 #strike\n",
    "So = 100 # prix à l'origine\n",
    "r = 0.02 #drift\n",
    "sigma = 0.2 #volatilité\n",
    "dt = 1/365 # en année\n",
    "IC = 1.64 # intervalle de confiance à 95%\n"
   ]
  },
  {
   "cell_type": "code",
   "execution_count": 141,
   "id": "508be94b",
   "metadata": {},
   "outputs": [],
   "source": [
    "np.random.seed(11)\n",
    "\n",
    "dim = 10000\n",
    "\n",
    "# matrice des browniens\n",
    "W = np.ones((1, dim)) * So\n",
    "for i in range(1, 90): #attention ici dans les 90j on compte le day 0 avec la valeur 100\n",
    "    W = np.vstack([W, W[i - 1]*np.exp((r - (sigma**2)/2)*i/365 + sigma*np.sqrt(i/365)*np.random.randn(1, dim))])\n",
    "\n",
    "# on a le saut de 5 an moins 180 jours (donc dt = 1645/365)\n",
    "W2 = W[i - 1]*np.exp((r - (sigma**2)/2)*1645/365 + sigma*np.sqrt(1645/365)*np.random.randn(1, dim))\n",
    "\n",
    "for i in range(1, 90): #attention ici il ne manque que 89 jours à calculer et on compte à rebours\n",
    "    W2 = np.vstack([W2, W[i - 1]*np.exp((r - (sigma**2)/2)*(5 - ((90 - i)/365)) + sigma*np.sqrt(5 - ((90 - i)/365))*np.random.randn(1, dim))])"
   ]
  },
  {
   "cell_type": "code",
   "execution_count": 142,
   "id": "9250c554",
   "metadata": {},
   "outputs": [
    {
     "data": {
      "text/plain": [
       "(90, 10000)"
      ]
     },
     "execution_count": 142,
     "metadata": {},
     "output_type": "execute_result"
    }
   ],
   "source": [
    "np.shape(W) # on a bien 90 jours\n",
    "np.shape(W2) # aussi"
   ]
  },
  {
   "cell_type": "code",
   "execution_count": 143,
   "id": "0878f9d7",
   "metadata": {},
   "outputs": [],
   "source": [
    "mean_first = list(pd.DataFrame(W).mean())\n",
    "mean_last = list(pd.DataFrame(W2).mean())"
   ]
  },
  {
   "cell_type": "code",
   "execution_count": 144,
   "id": "7fd17783",
   "metadata": {},
   "outputs": [
    {
     "name": "stdout",
     "output_type": "stream",
     "text": [
      "0.8712578093053537\n"
     ]
    }
   ],
   "source": [
    "def maximum(a, b):\n",
    "     \n",
    "    if a >= b:\n",
    "        return a\n",
    "    else:\n",
    "        return b\n",
    "\n",
    "print(mean_first[0] / mean_last[0]  ) \n",
    "    \n",
    "payoff = [maximum(((i / j )- K)*100, 0) for i,j in zip(mean_last, mean_first)]"
   ]
  },
  {
   "cell_type": "code",
   "execution_count": 149,
   "id": "cf8a3f27",
   "metadata": {},
   "outputs": [
    {
     "name": "stdout",
     "output_type": "stream",
     "text": [
      "Prix: 11.47446378529614\n"
     ]
    }
   ],
   "source": [
    "print(f\"Prix: {pd.Series(payoff).mean()*100}\")"
   ]
  },
  {
   "cell_type": "code",
   "execution_count": 162,
   "id": "b010b625",
   "metadata": {},
   "outputs": [],
   "source": [
    "convergence = pd.Series(payoff).expanding().mean()\n",
    "ecart_type = pd.Series(payoff).expanding().std()\n",
    "\n",
    "ic_moins = [list(convergence)[i] - IC*list(ecart_type)[i]/np.sqrt(i + 1) for i in range(len(list(convergence)))]\n",
    "ic_plus = [list(convergence)[i] + IC*list(ecart_type)[i]/np.sqrt(i + 1) for i in range(len(list(convergence)))]"
   ]
  },
  {
   "cell_type": "code",
   "execution_count": 169,
   "id": "1f5f67af",
   "metadata": {},
   "outputs": [
    {
     "data": {
      "image/png": "[encoded data removed]",
      "text/plain": [
       "<Figure size 432x288 with 1 Axes>"
      ]
     },
     "metadata": {
      "needs_background": "light"
     },
     "output_type": "display_data"
    }
   ],
   "source": [
    "x = [i for i in range(1, dim + 1)]\n",
    "\n",
    "plt.plot(x, convergence)\n",
    "plt.plot(x, ic_moins)\n",
    "plt.plot(x, ic_plus)\n",
    "plt.show()"
   ]
  },
  {
   "cell_type": "code",
   "execution_count": 164,
   "id": "6176e1ba",
   "metadata": {},
   "outputs": [
    {
     "data": {
      "text/plain": [
       "0.10296870021938206"
      ]
     },
     "execution_count": 164,
     "metadata": {},
     "output_type": "execute_result"
    }
   ],
   "source": [
    "ic_moins[-1]"
   ]
  },
  {
   "cell_type": "code",
   "execution_count": 165,
   "id": "317ccb89",
   "metadata": {},
   "outputs": [
    {
     "data": {
      "text/plain": [
       "0.12652057548654067"
      ]
     },
     "execution_count": 165,
     "metadata": {},
     "output_type": "execute_result"
    }
   ],
   "source": [
    "ic_plus[-1]"
   ]
  },
  {
   "cell_type": "code",
   "execution_count": 167,
   "id": "be7b5376",
   "metadata": {},
   "outputs": [
    {
     "data": {
      "text/plain": [
       "0.11474463785296136"
      ]
     },
     "execution_count": 167,
     "metadata": {},
     "output_type": "execute_result"
    }
   ],
   "source": [
    "list(convergence)[-1]"
   ]
  },
  {
   "cell_type": "code",
   "execution_count": null,
   "id": "002fc2e5",
   "metadata": {},
   "outputs": [],
   "source": []
  }
 ],
 "metadata": {
  "kernelspec": {
   "display_name": "Python 3 (ipykernel)",
   "language": "python",
   "name": "python3"
  },
  "language_info": {
   "codemirror_mode": {
    "name": "ipython",
    "version": 3
   },
   "file_extension": ".py",
   "mimetype": "text/x-python",
   "name": "python",
   "nbconvert_exporter": "python",
   "pygments_lexer": "ipython3",
   "version": "3.9.1"
  }
 },
 "nbformat": 4,
 "nbformat_minor": 5
}
