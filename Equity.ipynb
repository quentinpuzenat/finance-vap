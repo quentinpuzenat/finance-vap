{
 "cells": [
  {
   "cell_type": "code",
   "execution_count": 239,
   "id": "4e12e124",
   "metadata": {},
   "outputs": [],
   "source": [
    "import pandas as pd\n",
    "import numpy as np\n",
    "import matplotlib.pyplot as plt\n",
    "from time import time"
   ]
  },
  {
   "cell_type": "code",
   "execution_count": 240,
   "id": "f8bd98d9",
   "metadata": {},
   "outputs": [],
   "source": [
    "# paramètres\n",
    "\n",
    "K = 1.20 #strike\n",
    "So = 100 # prix à l'origine\n",
    "r = 0.02 #drift\n",
    "sigma = 0.2 #volatilité\n",
    "dt = 1/365 # en année\n",
    "IC = 1.64 # intervalle de confiance à 95%\n"
   ]
  },
  {
   "cell_type": "code",
   "execution_count": 249,
   "id": "7fbe58bf",
   "metadata": {},
   "outputs": [
    {
     "name": "stdout",
     "output_type": "stream",
     "text": [
      "Temps de calcul: 3.224 sec pour 9000000 simulations.\n"
     ]
    }
   ],
   "source": [
    "np.random.seed(11)\n",
    "\n",
    "start = time()\n",
    "dim = 100000\n",
    "\n",
    "# matrice des browniens\n",
    "W = np.ones((1, dim)) * So\n",
    "for i in range(1, 90): #attention ici dans les 90j on compte le day 0 avec la valeur 100\n",
    "    W = np.vstack([W, W[i - 1]*np.exp((r - (sigma**2)/2)*i/365 + sigma*np.sqrt(i/365)*np.random.randn(1, dim))])\n",
    "\n",
    "# on a le saut de 5 an moins 180 jours (donc dt = 1645/365)\n",
    "W2 = W[i - 1]*np.exp((r - (sigma**2)/2)*1645/365 + sigma*np.sqrt(1645/365)*np.random.randn(1, dim))\n",
    "\n",
    "for i in range(1, 90): #attention ici il ne manque que 89 jours à calculer et on compte à rebours\n",
    "    W2 = np.vstack([W2, W[i - 1]*np.exp((r - (sigma**2)/2)*(5 - ((90 - i)/365)) + sigma*np.sqrt(5 - ((90 - i)/365))*np.random.randn(1, dim))])\n",
    "    \n",
    "print(f\"Temps de calcul: {(time() - start):.3f} sec pour {90*dim} simulations.\")"
   ]
  },
  {
   "cell_type": "code",
   "execution_count": 250,
   "id": "eed91271",
   "metadata": {},
   "outputs": [
    {
     "data": {
      "text/plain": [
       "(90, 100000)"
      ]
     },
     "execution_count": 250,
     "metadata": {},
     "output_type": "execute_result"
    }
   ],
   "source": [
    "np.shape(W) # on a bien 90 jours\n",
    "np.shape(W2) # aussi"
   ]
  },
  {
   "cell_type": "code",
   "execution_count": 251,
   "id": "27e956fa",
   "metadata": {},
   "outputs": [],
   "source": [
    "mean_first = list(pd.DataFrame(W).mean())\n",
    "mean_last = list(pd.DataFrame(W2).mean())"
   ]
  },
  {
   "cell_type": "code",
   "execution_count": 257,
   "id": "821f5a8a",
   "metadata": {},
   "outputs": [],
   "source": [
    "def maximum(a, b):\n",
    "    if a >= b:\n",
    "        return a\n",
    "    else:\n",
    "        return b \n",
    "    \n",
    "payoff = [maximum(((i / j )- K)*100, 0) for i,j in zip(mean_last, mean_first)]"
   ]
  },
  {
   "cell_type": "code",
   "execution_count": 258,
   "id": "58febabc",
   "metadata": {},
   "outputs": [
    {
     "name": "stdout",
     "output_type": "stream",
     "text": [
      "Prix: 11.436314842160675\n"
     ]
    }
   ],
   "source": [
    "print(f\"Prix: {pd.Series(payoff).mean()*100}\")"
   ]
  },
  {
   "cell_type": "code",
   "execution_count": 259,
   "id": "71b10290",
   "metadata": {},
   "outputs": [
    {
     "name": "stdout",
     "output_type": "stream",
     "text": [
      "Temps de calcul: 0.116 sec. pour 9000000 valeurs.\n"
     ]
    }
   ],
   "source": [
    "start = time()\n",
    "\n",
    "convergence = pd.Series(payoff).expanding().mean()\n",
    "ecart_type = pd.Series(payoff).expanding().std()\n",
    "\n",
    "x = pd.Series([i for i in range(1, dim + 1)])\n",
    "\n",
    "ic_moins = convergence - IC*ecart_type.div(np.sqrt(x)) \n",
    "ic_plus = convergence + IC*ecart_type.div(np.sqrt(x)) \n",
    "\n",
    "print(f\"Temps de calcul: {(time() - start):.3f} sec. pour {90*dim} valeurs.\")"
   ]
  },
  {
   "cell_type": "code",
   "execution_count": 260,
   "id": "c0378a96",
   "metadata": {},
   "outputs": [
    {
     "data": {
      "image/png": "[encoded data removed]",
      "text/plain": [
       "<Figure size 432x288 with 1 Axes>"
      ]
     },
     "metadata": {
      "needs_background": "light"
     },
     "output_type": "display_data"
    }
   ],
   "source": [
    "x = [i for i in range(1, dim + 1)]\n",
    "\n",
    "plt.plot(x, convergence)\n",
    "plt.plot(x, ic_moins)\n",
    "plt.plot(x, ic_plus)\n",
    "plt.show()"
   ]
  },
  {
   "cell_type": "code",
   "execution_count": 233,
   "id": "9b049ccd",
   "metadata": {},
   "outputs": [
    {
     "data": {
      "text/plain": [
       "0.1105751442428096"
      ]
     },
     "execution_count": 233,
     "metadata": {},
     "output_type": "execute_result"
    }
   ],
   "source": [
    "list(ic_moins)[-1]"
   ]
  },
  {
   "cell_type": "code",
   "execution_count": 234,
   "id": "8576211a",
   "metadata": {},
   "outputs": [
    {
     "data": {
      "text/plain": [
       "0.1181511526004038"
      ]
     },
     "execution_count": 234,
     "metadata": {},
     "output_type": "execute_result"
    }
   ],
   "source": [
    "list(ic_plus)[-1]"
   ]
  },
  {
   "cell_type": "code",
   "execution_count": 235,
   "id": "5c71e7f0",
   "metadata": {},
   "outputs": [
    {
     "data": {
      "text/plain": [
       "0.1143631484216067"
      ]
     },
     "execution_count": 235,
     "metadata": {},
     "output_type": "execute_result"
    }
   ],
   "source": [
    "list(convergence)[-1]"
   ]
  },
  {
   "cell_type": "code",
   "execution_count": null,
   "id": "f44c7a12",
   "metadata": {},
   "outputs": [],
   "source": []
  }
 ],
 "metadata": {
  "kernelspec": {
   "display_name": "Python 3 (ipykernel)",
   "language": "python",
   "name": "python3"
  },
  "language_info": {
   "codemirror_mode": {
    "name": "ipython",
    "version": 3
   },
   "file_extension": ".py",
   "mimetype": "text/x-python",
   "name": "python",
   "nbconvert_exporter": "python",
   "pygments_lexer": "ipython3",
   "version": "3.9.1"
  }
 },
 "nbformat": 4,
 "nbformat_minor": 5
}
