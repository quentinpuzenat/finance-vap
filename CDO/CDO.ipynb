{
 "cells": [
  {
   "cell_type": "code",
   "execution_count": 1,
   "id": "d5796298",
   "metadata": {},
   "outputs": [],
   "source": [
    "import pandas as pd\n",
    "import matplotlib.pyplot as plt\n",
    "import numpy as np\n",
    "from scipy.stats import norm, beta\n",
    "from tabulate import tabulate\n",
    "\n",
    "import useful\n",
    "\n",
    "seed = np.random.seed(11) # seed pour avoir les mêmes résultats"
   ]
  },
  {
   "cell_type": "markdown",
   "id": "e9eb72d5",
   "metadata": {},
   "source": [
    "### Création des tables utiles de rating et de secteur"
   ]
  },
  {
   "cell_type": "code",
   "execution_count": 13,
   "id": "895056a4",
   "metadata": {},
   "outputs": [],
   "source": [
    "filename = \"Credit_Portfolio_withSectors.xls\"\n",
    "\n",
    "# table avec nos différents CDS\n",
    "CDS_df = pd.read_excel(filename, sheet_name=\"Portfolio\")\n",
    "\n",
    "# calcul des différents paramètres comme PD, Barrier, Expected Loss\n",
    "CDS_df, num_secteur_array = useful.compute_parameters(CDS_df)\n",
    "\n",
    "# calcul des simulations Monte Carlo et de la perte du portfolio par CDS\n",
    "Loss_Portfolio = useful.compute_MC(CDS_df, num_secteur_array)"
   ]
  },
  {
   "cell_type": "code",
   "execution_count": 14,
   "id": "7915b6f6",
   "metadata": {},
   "outputs": [
    {
     "name": "stdout",
     "output_type": "stream",
     "text": [
      "╒════════════════════════╤═════════╕\n",
      "│ Portfolio Management   │   Value │\n",
      "╞════════════════════════╪═════════╡\n",
      "│ Perte Moyenne          │ 15357.4 │\n",
      "├────────────────────────┼─────────┤\n",
      "│ VaR (99%)              │ 40470.8 │\n",
      "├────────────────────────┼─────────┤\n",
      "│ ESF                    │ 45968.6 │\n",
      "╘════════════════════════╧═════════╛\n"
     ]
    }
   ],
   "source": [
    "# calcul de notre portfolio management\n",
    "var_precision = 99 \n",
    "portfolio_mgt, perte_moyenne = useful.compute_portfolio_mgt(Loss_Portfolio, var_precision)"
   ]
  },
  {
   "cell_type": "code",
   "execution_count": 15,
   "id": "1b4082d9",
   "metadata": {},
   "outputs": [
    {
     "name": "stdout",
     "output_type": "stream",
     "text": [
      "╒══════════════════╤═════════════════════╕\n",
      "│ CDO Management   │ Value               │\n",
      "╞══════════════════╪═════════════════════╡\n",
      "│ Strike           │ 5.0%                │\n",
      "├──────────────────┼─────────────────────┤\n",
      "│ Size             │ 2.0%                │\n",
      "├──────────────────┼─────────────────────┤\n",
      "│ Price            │ 18.444278533233323% │\n",
      "╘══════════════════╧═════════════════════╛\n"
     ]
    }
   ],
   "source": [
    "# calcul de notre CDO\n",
    "strike = 0.05\n",
    "size = 0.02\n",
    "cdo_mgt = useful.compute_CDO_mgt(Loss_Portfolio, CDS_df, strike, size)"
   ]
  },
  {
   "cell_type": "markdown",
   "id": "b16b4fa2",
   "metadata": {},
   "source": [
    "## Convergence"
   ]
  },
  {
   "cell_type": "code",
   "execution_count": 16,
   "id": "32e8744b",
   "metadata": {},
   "outputs": [
    {
     "data": {
      "image/png": "[encoded data removed]",
      "text/plain": [
       "<Figure size 432x288 with 1 Axes>"
      ]
     },
     "metadata": {
      "needs_background": "light"
     },
     "output_type": "display_data"
    }
   ],
   "source": [
    "moyenne_glissante = list(pd.Series(Loss_Portfolio).expanding().mean()) # calcul de la moyenne glissante\n",
    "ecart_type_glissant = list(pd.Series(Loss_Portfolio).expanding().std()) # calcul de l'écart-type glissant\n",
    "\n",
    "# calcul des intervalles de confiance\n",
    "ic_moins = [moyenne_glissante[i] - 1.64*ecart_type_glissant[i]/np.sqrt(i) for i in range(len(moyenne_glissante))]\n",
    "ic_plus = [moyenne_glissante[i] + 1.64*ecart_type_glissant[i]/np.sqrt(i) for i in range(len(moyenne_glissante))]\n",
    "\n",
    "# liste des abscisse\n",
    "x = [i for i in range(len(moyenne_glissante))]\n",
    "\n",
    "plt.plot(x, moyenne_glissante)\n",
    "plt.plot(x, ic_moins)\n",
    "plt.plot(x, ic_plus)\n",
    "\n",
    "plt.show()"
   ]
  },
  {
   "cell_type": "code",
   "execution_count": null,
   "id": "00c80427",
   "metadata": {},
   "outputs": [],
   "source": []
  }
 ],
 "metadata": {
  "interpreter": {
   "hash": "a5d52a0c0a0539d5ecbb1485cefeb08c8102bcb54d5cfb820daaee63b163f6fe"
  },
  "kernelspec": {
   "display_name": "Python 3.9.1 64-bit ('financepython': venv)",
   "name": "python3"
  },
  "language_info": {
   "codemirror_mode": {
    "name": "ipython",
    "version": 3
   },
   "file_extension": ".py",
   "mimetype": "text/x-python",
   "name": "python",
   "nbconvert_exporter": "python",
   "pygments_lexer": "ipython3",
   "version": "3.9.1"
  }
 },
 "nbformat": 4,
 "nbformat_minor": 5
}
